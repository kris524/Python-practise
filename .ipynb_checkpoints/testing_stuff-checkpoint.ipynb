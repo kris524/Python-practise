{
 "cells": [
  {
   "cell_type": "code",
   "execution_count": null,
   "id": "a25cf8d7",
   "metadata": {},
   "outputs": [],
   "source": [
    "def searchInsert(nums: List[int], target: int) -> int:\n",
    "    low = 0\n",
    "    high = len(nums) -1\n",
    "    mid = 0\n",
    "    \n",
    "    while low <= high:\n",
    "        mid = (high+low)//2\n",
    "        if nums[mid]<target:\n",
    "            low = mid + 1\n",
    "            \n",
    "        elif nums[mid]> target:\n",
    "            high = mid -1\n",
    "    "
   ]
  }
 ],
 "metadata": {
  "kernelspec": {
   "display_name": "Python 3 (ipykernel)",
   "language": "python",
   "name": "python3"
  },
  "language_info": {
   "codemirror_mode": {
    "name": "ipython",
    "version": 3
   },
   "file_extension": ".py",
   "mimetype": "text/x-python",
   "name": "python",
   "nbconvert_exporter": "python",
   "pygments_lexer": "ipython3",
   "version": "3.9.12"
  }
 },
 "nbformat": 4,
 "nbformat_minor": 5
}
