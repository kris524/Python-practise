{
 "cells": [
  {
   "cell_type": "code",
   "execution_count": 8,
   "id": "255cea9a",
   "metadata": {},
   "outputs": [],
   "source": [
    "def searchInsert(nums , target ) -> int:\n",
    "    low = 0\n",
    "    high =,len(nums) -1\n",
    "    mid = 0\n",
    "    \n",
    "    while low <= high:\n",
    "        mid = (high+low)//2\n",
    "        if nums[mid]<target:\n",
    "            low = mid + 1\n",
    "            \n",
    "        elif nums[mid]> target:\n",
    "            high = mid -1\n",
    "            \n",
    "        else:\n",
    "            return mid\n",
    "        \n",
    "    #if we dont find it place some conditon here that will set its index\n",
    "#     print(high, low)\n",
    "#     return -1\n",
    "    return low\n",
    "    "
   ]
  },
  {
   "cell_type": "code",
   "execution_count": 10,
   "id": "2da85c9f",
   "metadata": {},
   "outputs": [
    {
     "name": "stdout",
     "output_type": "stream",
     "text": [
      "3 4\n"
     ]
    },
    {
     "data": {
      "text/plain": [
       "-1"
      ]
     },
     "execution_count": 10,
     "metadata": {},
     "output_type": "execute_result"
    }
   ],
   "source": [
    "searchInsert([1,3,5,6],7)"
   ]
  },
  {
   "cell_type": "code",
   "execution_count": null,
   "id": "4a81c93b",
   "metadata": {},
   "outputs": [],
   "source": [
    "def sortedSquares(self, nums: List[int]) -> List[int]:\n",
    "    sortedSquare = list(range(len(nums)))\n",
    "    smaller_index = 0\n",
    "    large_index = len(nums) - 1\n",
    "\n",
    "    for index in reversed(range(len(nums))):\n",
    "        small_number = nums[smaler_index]\n",
    "        large_number = nums[large_index]\n",
    "        \n",
    "        if abs(small_number) > abs(large_number):\n",
    "            sortedSquare[index] = small_number * small_number\n",
    "            smaler_index +=1\n",
    "        else:\n",
    "            sortedSquare[index] = large_number * large_number\n",
    "            large_number -=1\n",
    "            \n",
    "    return sortedSquare\n",
    "            \n",
    "        \n",
    "        \n",
    "        \n",
    "        \n",
    "        \n",
    "        "
   ]
  },
  {
   "cell_type": "code",
   "execution_count": 44,
   "id": "e1132c7a",
   "metadata": {},
   "outputs": [],
   "source": [
    "def rotate(nums, k):\n",
    "    reversed_nums_section = nums[-k:]\n",
    "    for i in range(k):\n",
    "        a = nums.pop()\n",
    "        nums.insert(0,a)\n",
    "    print(nums)\n",
    "    \n",
    "#     asda =  reversed_nums_section+nums\n",
    "#     return asda\n",
    "   \n",
    "\n",
    "\n",
    "    \n",
    "    \n",
    "    "
   ]
  },
  {
   "cell_type": "code",
   "execution_count": 45,
   "id": "f45bd480",
   "metadata": {},
   "outputs": [
    {
     "name": "stdout",
     "output_type": "stream",
     "text": [
      "[5, 6, 7, 1, 2, 3, 4]\n"
     ]
    }
   ],
   "source": [
    "rotate([1,2,3,4,5,6,7], 3)"
   ]
  },
  {
   "cell_type": "code",
   "execution_count": 37,
   "id": "cc6bd5dc",
   "metadata": {},
   "outputs": [
    {
     "ename": "SyntaxError",
     "evalue": "unmatched ']' (2707271547.py, line 1)",
     "output_type": "error",
     "traceback": [
      "\u001b[0;36m  Input \u001b[0;32mIn [37]\u001b[0;36m\u001b[0m\n\u001b[0;31m    4,3,2,1]\u001b[0m\n\u001b[0m           ^\u001b[0m\n\u001b[0;31mSyntaxError\u001b[0m\u001b[0;31m:\u001b[0m unmatched ']'\n"
     ]
    }
   ],
   "source": [
    "\n",
    "4,3,2,1]"
   ]
  },
  {
   "cell_type": "code",
   "execution_count": 75,
   "id": "ecc5229a",
   "metadata": {},
   "outputs": [],
   "source": [
    "def moveZeroes(nums) -> None:\n",
    "\n",
    "    j = 0\n",
    "    for i in range(len(nums)):\n",
    "\n",
    "        if nums[i]:\n",
    "            # print(\"yes\")\n",
    "#             non_zero = nums.pop(i)\n",
    "#             nums.insert(j, non_zero)\n",
    "#             j+=1\n",
    "            print(i, j)\n",
    "            nums[j], nums[i] = nums[i], nums[j]\n",
    "            j+=1\n",
    "            print(nums)\n",
    "\n",
    "        else:\n",
    "            continue"
   ]
  },
  {
   "cell_type": "code",
   "execution_count": 3,
   "id": "d28cc147",
   "metadata": {},
   "outputs": [],
   "source": [
    "tree1 = {\n",
    "    \"tree\": {\n",
    "        \n",
    "        \"nodes\": [\n",
    "        {\"id\": \"10\", \"left\": \"5\", \"right\": \"15\", \"value\": 10},\n",
    "        {\"id\": \"15\", \"left\": \"13\", \"right\": \"22\", \"value\": 15},\n",
    "        # {\"id\": \"22\", \"left\": null, \"right\": null, \"value\": 22},\n",
    "        # {\"id\": \"13\", \"left\": null, \"right\": \"14\", \"value\": 13},\n",
    "        # {\"id\": \"14\", \"left\": null, \"right\": null, \"value\": 14},\n",
    "        {\"id\": \"5\", \"left\": \"2\", \"right\": \"5-2\", \"value\": 5},\n",
    "        # {\"id\": \"5-2\", \"left\": null, \"right\": null, \"value\": 5},\n",
    "        # {\"id\": \"2\", \"left\": \"1\", \"right\": null, \"value\": 2},\n",
    "        # {\"id\": \"1\", \"left\": null, \"right\": null, \"value\": 1}\n",
    "        ],\n",
    "        \"root\": \"10\"\n",
    "    }\n",
    "}"
   ]
  },
  {
   "cell_type": "code",
   "execution_count": 4,
   "id": "16876ab0",
   "metadata": {},
   "outputs": [],
   "source": [
    "def findClosestValueInBst(tree, target):\n",
    "    return another_func(tree, target, tree.value)\n",
    "    # tree = {\"id\": \"10\", \"left\": \"5\", \"right\": \"15\", \"value\": 10}\n",
    "\n",
    "\n",
    "def another_func(tree, target, closest):\n",
    "    # next_id = 0\n",
    "    for i in tree[\"tree\"][\"nodes\"]:\n",
    "        # print(i) -> {'id': '10', 'left': '5', 'right': '15', 'value': 10}\n",
    "        first_diff = target - int(i[\"left\"])\n",
    "        second_diff = target - int(i[\"right\"])\n",
    "        if second_diff < first_diff:\n",
    "            next_id = i[\"right\"] #15\n",
    "\n",
    "            \n",
    "        \n"
   ]
  },
  {
   "cell_type": "code",
   "execution_count": 5,
   "id": "b178dd72",
   "metadata": {},
   "outputs": [
    {
     "name": "stdout",
     "output_type": "stream",
     "text": [
      "{'id': '10', 'left': '5', 'right': '15', 'value': 10}\n",
      "{'id': '15', 'left': '13', 'right': '22', 'value': 15}\n",
      "{'id': '5', 'left': '2', 'right': '5-2', 'value': 5}\n"
     ]
    }
   ],
   "source": [
    "findClosestValueInBst(tree1, 1)"
   ]
  },
  {
   "cell_type": "code",
   "execution_count": 5,
   "id": "1fe2ea5a",
   "metadata": {},
   "outputs": [],
   "source": [
    "def compareTriplets(a, b):\n",
    "    score_bob = 0\n",
    "    score_alice = 0\n",
    "    for i in range(3):\n",
    "        if a[i] > b[i]:\n",
    "            score_alice+=1\n",
    "        elif b[i]>a[i]:\n",
    "            score_bob+=1\n",
    "        else:\n",
    "            continue\n",
    "    return [score_alice, score_bob]\n",
    "\n",
    "\n"
   ]
  },
  {
   "cell_type": "code",
   "execution_count": 4,
   "id": "a8a1248a",
   "metadata": {},
   "outputs": [
    {
     "name": "stdout",
     "output_type": "stream",
     "text": [
      "0\n",
      "1\n",
      "2\n"
     ]
    }
   ],
   "source": [
    "compareTriplets(1,1)"
   ]
  },
  {
   "cell_type": "code",
   "execution_count": 10,
   "id": "0b580d42",
   "metadata": {},
   "outputs": [],
   "source": [
    "def plusMinus(arr):\n",
    "    count_positive = 0\n",
    "    count_negative = 0\n",
    "    count_zero = 0\n",
    "    for i in arr:\n",
    "        if i > 0:\n",
    "            count_positive +=1\n",
    "        elif i <0:\n",
    "            count_negative +=1\n",
    "        else:\n",
    "            count_zero+=1\n",
    "    \n",
    "    print(\"{:.6f}\".format(count_positive/len(arr)))\n",
    "    print(\"{:.6f}\".format(count_negative/len(arr)))\n",
    "    print(\"{:.6f}\".format(count_zero/len(arr)))\n",
    "    "
   ]
  },
  {
   "cell_type": "code",
   "execution_count": 11,
   "id": "fdc09b59",
   "metadata": {},
   "outputs": [
    {
     "name": "stdout",
     "output_type": "stream",
     "text": [
      "0.400000\n",
      "0.400000\n",
      "0.200000\n"
     ]
    }
   ],
   "source": [
    "plusMinus([1,1,0,-1,-1])"
   ]
  },
  {
   "cell_type": "code",
   "execution_count": 40,
   "id": "db987c62",
   "metadata": {},
   "outputs": [],
   "source": [
    "def miniMaxSum(arr):\n",
    "\n",
    "    final_list = []\n",
    "    for j in range(len(arr)):\n",
    "        #i = index, x = element\n",
    "        b = [x for i,x in enumerate(arr) if i!=j]\n",
    "        \n",
    "        final_list.append(sum(b))\n",
    "\n",
    "    print(min(final_list))\n",
    "    print(max(final_list))"
   ]
  },
  {
   "cell_type": "code",
   "execution_count": 148,
   "id": "e55d2b48",
   "metadata": {},
   "outputs": [],
   "source": [
    "def timeConversion(s):\n",
    "    hour = int(s[:2])\n",
    "    \n",
    "    letters = s[-2:]\n",
    "    if hour == 12:\n",
    "        hour = 0\n",
    "\n",
    "    if letters == \"PM\":\n",
    "        hour = 12 + hour\n",
    "        \n",
    "    print(\"{:02d}\".format(hour) + s[2:8])\n",
    "    \n",
    "  \n",
    "\n",
    "\n",
    "\n",
    "\n"
   ]
  },
  {
   "cell_type": "code",
   "execution_count": 154,
   "id": "4060335f",
   "metadata": {},
   "outputs": [
    {
     "name": "stdout",
     "output_type": "stream",
     "text": [
      "13:05:45\n"
     ]
    }
   ],
   "source": [
    "timeConversion(\"01:05:45PM\")"
   ]
  },
  {
   "cell_type": "code",
   "execution_count": 215,
   "id": "48303c1e",
   "metadata": {},
   "outputs": [],
   "source": [
    "def diagonalDifference(arr):\n",
    "    left_diag = [arr[i][i] for i in range(len(arr))]\n",
    "\n",
    "    right_diag = [arr[i][len(arr)-1-i] for i in range(len(arr))]\n",
    "     \n",
    "    return abs(sum(left_diag) - sum(right_diag))\n",
    "   "
   ]
  },
  {
   "cell_type": "code",
   "execution_count": 216,
   "id": "e5ec35c2",
   "metadata": {},
   "outputs": [
    {
     "data": {
      "text/plain": [
       "0"
      ]
     },
     "execution_count": 216,
     "metadata": {},
     "output_type": "execute_result"
    }
   ],
   "source": [
    "diagonalDifference([[1,2,3],[4,5,6],[7,8,9]])"
   ]
  },
  {
   "cell_type": "code",
   "execution_count": 159,
   "id": "5418adc1",
   "metadata": {},
   "outputs": [],
   "source": [
    "arr = [[1,2,3],[4,5,6],[7,8,9]]"
   ]
  },
  {
   "cell_type": "code",
   "execution_count": 160,
   "id": "8a3fa64f",
   "metadata": {},
   "outputs": [
    {
     "data": {
      "text/plain": [
       "3"
      ]
     },
     "execution_count": 160,
     "metadata": {},
     "output_type": "execute_result"
    }
   ],
   "source": [
    "len(arr)"
   ]
  },
  {
   "cell_type": "code",
   "execution_count": 173,
   "id": "b3178a09",
   "metadata": {},
   "outputs": [],
   "source": [
    "def staircase(n):\n",
    "    total_staits = \"#\"*n\n",
    "    i = 1\n",
    "    k = n-1\n",
    "    while i <= n:\n",
    "        print(\" \"*k + \"#\"*i )\n",
    "        i+=1\n",
    "        k-=1\n",
    "        # print(\"#\"*(n-i))"
   ]
  },
  {
   "cell_type": "code",
   "execution_count": 174,
   "id": "ef4e2302",
   "metadata": {},
   "outputs": [
    {
     "name": "stdout",
     "output_type": "stream",
     "text": [
      "    #\n",
      "   ##\n",
      "  ###\n",
      " ####\n",
      "#####\n"
     ]
    }
   ],
   "source": [
    "staircase(5)"
   ]
  },
  {
   "cell_type": "code",
   "execution_count": 188,
   "id": "478d8991",
   "metadata": {},
   "outputs": [],
   "source": [
    "def findMedian(arr):\n",
    "    arr.sort()\n",
    "    return arr[(len(arr) - 1)//2]"
   ]
  },
  {
   "cell_type": "code",
   "execution_count": 189,
   "id": "dff4a6c5",
   "metadata": {},
   "outputs": [
    {
     "name": "stdout",
     "output_type": "stream",
     "text": [
      "3\n"
     ]
    }
   ],
   "source": [
    "print(findMedian([5,4,3,2,1]))"
   ]
  },
  {
   "cell_type": "code",
   "execution_count": 199,
   "id": "500b8299",
   "metadata": {},
   "outputs": [],
   "source": [
    "def lonelyinteger(a):\n",
    "    counitng = {}\n",
    "    for i in a:\n",
    "        if i not in counitng.keys():\n",
    "            # print(i)\n",
    "            counitng[i] = 1\n",
    "        elif i in counitng.keys():\n",
    "            counitng[i] +=1\n",
    "    key = [k for k, v in counitng.items() if v == 1][0]\n",
    "    print(key)"
   ]
  },
  {
   "cell_type": "code",
   "execution_count": 200,
   "id": "2a015606",
   "metadata": {},
   "outputs": [
    {
     "name": "stdout",
     "output_type": "stream",
     "text": [
      "4\n"
     ]
    }
   ],
   "source": [
    "lonelyinteger([1,2,3,4,3,2,1])"
   ]
  },
  {
   "cell_type": "code",
   "execution_count": 211,
   "id": "030e7d0e",
   "metadata": {},
   "outputs": [],
   "source": [
    "def lonelyinteger_2(nums):\n",
    "    res = 0\n",
    "    for n in nums:\n",
    "        # print(n)\n",
    "        res = n ^ res\n",
    "        print(res)\n",
    "    return res"
   ]
  },
  {
   "cell_type": "code",
   "execution_count": 212,
   "id": "36eb21bc",
   "metadata": {},
   "outputs": [
    {
     "name": "stdout",
     "output_type": "stream",
     "text": [
      "1\n",
      "3\n",
      "0\n",
      "4\n",
      "7\n",
      "5\n",
      "4\n"
     ]
    },
    {
     "data": {
      "text/plain": [
       "4"
      ]
     },
     "execution_count": 212,
     "metadata": {},
     "output_type": "execute_result"
    }
   ],
   "source": [
    "lonelyinteger_2([1,2,3,4,3,2,1])"
   ]
  },
  {
   "cell_type": "code",
   "execution_count": 247,
   "id": "9ce69d89",
   "metadata": {},
   "outputs": [],
   "source": [
    "def countingSort(arr):\n",
    "    max_number = max(arr)\n",
    "    print(max_number)\n",
    "    # print(max_number)\n",
    "    empty_arr = [0]* 100\n",
    "    print(empty_arr)\n",
    "    # print(empty_arr)\n",
    "    for i in range(len(arr)):\n",
    "        index = arr[i]\n",
    "        empty_arr[index] +=1\n",
    "    print(empty_arr)\n",
    "\n"
   ]
  },
  {
   "cell_type": "code",
   "execution_count": 268,
   "id": "dde1a588",
   "metadata": {},
   "outputs": [
    {
     "ename": "SyntaxError",
     "evalue": "invalid syntax (2217232712.py, line 7)",
     "output_type": "error",
     "traceback": [
      "\u001b[0;36m  Input \u001b[0;32mIn [268]\u001b[0;36m\u001b[0m\n\u001b[0;31m    s+=\u001b[0m\n\u001b[0m       ^\u001b[0m\n\u001b[0;31mSyntaxError\u001b[0m\u001b[0;31m:\u001b[0m invalid syntax\n"
     ]
    }
   ],
   "source": [
    "def flippingMatrix(matrix):\n",
    "    n = len(matrix)\n",
    "    s = 0 #final sum\n",
    "\n",
    "    for i in range(n//2): #get the top left corner of the matrix, half of the matrix, // so we dont get floats but integers\n",
    "        for j in range(n//2):\n",
    "             s+= max(matrix[i][j], matrix[i][n-j-1], matrix[n-i-1][j], matrix[n-i-1][n-j-1])\n",
    "    print(s)"
   ]
  },
  {
   "cell_type": "code",
   "execution_count": 262,
   "id": "3f3ce5f1",
   "metadata": {},
   "outputs": [
    {
     "name": "stdout",
     "output_type": "stream",
     "text": [
      "[112, 119, 62, 108]\n"
     ]
    }
   ],
   "source": [
    "flippingMatrix([[112, 42, 83, 119], [56, 125, 56, 49] ,[15, 78, 101, 43], [62, 98, 114, 108]])"
   ]
  },
  {
   "cell_type": "code",
   "execution_count": 267,
   "id": "6d1e088c",
   "metadata": {},
   "outputs": [
    {
     "data": {
      "text/plain": [
       "0"
      ]
     },
     "execution_count": 267,
     "metadata": {},
     "output_type": "execute_result"
    }
   ],
   "source": [
    "mat = [[112, 42, 83, 119], [56, 125, 56, 49] ,[15, 78, 101, 43], [62, 98, 114, 108]]\n",
    "len(mat)//2"
   ]
  },
  {
   "cell_type": "code",
   "execution_count": null,
   "id": "c726aecb",
   "metadata": {},
   "outputs": [],
   "source": []
  },
  {
   "cell_type": "code",
   "execution_count": null,
   "id": "f104add4",
   "metadata": {},
   "outputs": [],
   "source": []
  }
 ],
 "metadata": {
  "kernelspec": {
   "display_name": "Python 3.10.3 64-bit",
   "language": "python",
   "name": "python3"
  },
  "language_info": {
   "codemirror_mode": {
    "name": "ipython",
    "version": 3
   },
   "file_extension": ".py",
   "mimetype": "text/x-python",
   "name": "python",
   "nbconvert_exporter": "python",
   "pygments_lexer": "ipython3",
   "version": "3.10.3"
  },
  "vscode": {
   "interpreter": {
    "hash": "aee8b7b246df8f9039afb4144a1f6fd8d2ca17a180786b69acc140d282b71a49"
   }
  }
 },
 "nbformat": 4,
 "nbformat_minor": 5
}
