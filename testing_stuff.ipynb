{
 "cells": [
  {
   "cell_type": "code",
   "execution_count": 8,
   "id": "255cea9a",
   "metadata": {},
   "outputs": [],
   "source": [
    "def searchInsert(nums , target ) -> int:\n",
    "    low = 0\n",
    "    high = len(nums) -1\n",
    "    mid = 0\n",
    "    \n",
    "    while low <= high:\n",
    "        mid = (high+low)//2\n",
    "        if nums[mid]<target:\n",
    "            low = mid + 1\n",
    "            \n",
    "        elif nums[mid]> target:\n",
    "            high = mid -1\n",
    "            \n",
    "        else:\n",
    "            return mid\n",
    "        \n",
    "    #if we dont find it place some conditon here that will set its index\n",
    "#     print(high, low)\n",
    "#     return -1\n",
    "    return low\n",
    "    "
   ]
  },
  {
   "cell_type": "code",
   "execution_count": 10,
   "id": "2da85c9f",
   "metadata": {},
   "outputs": [
    {
     "name": "stdout",
     "output_type": "stream",
     "text": [
      "3 4\n"
     ]
    },
    {
     "data": {
      "text/plain": [
       "-1"
      ]
     },
     "execution_count": 10,
     "metadata": {},
     "output_type": "execute_result"
    }
   ],
   "source": [
    "searchInsert([1,3,5,6],7)"
   ]
  },
  {
   "cell_type": "code",
   "execution_count": null,
   "id": "4a81c93b",
   "metadata": {},
   "outputs": [],
   "source": [
    "def sortedSquares(self, nums: List[int]) -> List[int]:\n",
    "    sortedSquare = list(range(len(nums)))\n",
    "    smaller_index = 0\n",
    "    large_index = len(nums) - 1\n",
    "\n",
    "    for index in reversed(range(len(nums))):\n",
    "        small_number = nums[smaler_index]\n",
    "        large_number = nums[large_index]\n",
    "        \n",
    "        if abs(small_number) > abs(large_number):\n",
    "            sortedSquare[index] = small_number * small_number\n",
    "            smaler_index +=1\n",
    "        else:\n",
    "            sortedSquare[index] = large_number * large_number\n",
    "            large_number -=1\n",
    "            \n",
    "    return sortedSquare\n",
    "            \n",
    "        \n",
    "        \n",
    "        \n",
    "        \n",
    "        \n",
    "        "
   ]
  },
  {
   "cell_type": "code",
   "execution_count": 44,
   "id": "e1132c7a",
   "metadata": {},
   "outputs": [],
   "source": [
    "def rotate(nums, k):\n",
    "    reversed_nums_section = nums[-k:]\n",
    "    for i in range(k):\n",
    "        a = nums.pop()\n",
    "        nums.insert(0,a)\n",
    "    print(nums)\n",
    "    \n",
    "#     asda =  reversed_nums_section+nums\n",
    "#     return asda\n",
    "   \n",
    "\n",
    "\n",
    "    \n",
    "    \n",
    "    "
   ]
  },
  {
   "cell_type": "code",
   "execution_count": 45,
   "id": "f45bd480",
   "metadata": {},
   "outputs": [
    {
     "name": "stdout",
     "output_type": "stream",
     "text": [
      "[5, 6, 7, 1, 2, 3, 4]\n"
     ]
    }
   ],
   "source": [
    "rotate([1,2,3,4,5,6,7], 3)"
   ]
  },
  {
   "cell_type": "code",
   "execution_count": 37,
   "id": "cc6bd5dc",
   "metadata": {},
   "outputs": [
    {
     "ename": "SyntaxError",
     "evalue": "unmatched ']' (2707271547.py, line 1)",
     "output_type": "error",
     "traceback": [
      "\u001b[0;36m  Input \u001b[0;32mIn [37]\u001b[0;36m\u001b[0m\n\u001b[0;31m    4,3,2,1]\u001b[0m\n\u001b[0m           ^\u001b[0m\n\u001b[0;31mSyntaxError\u001b[0m\u001b[0;31m:\u001b[0m unmatched ']'\n"
     ]
    }
   ],
   "source": [
    "\n",
    "4,3,2,1]"
   ]
  },
  {
   "cell_type": "code",
   "execution_count": 75,
   "id": "ecc5229a",
   "metadata": {},
   "outputs": [],
   "source": [
    "def moveZeroes(nums) -> None:\n",
    "\n",
    "    j = 0\n",
    "    for i in range(len(nums)):\n",
    "\n",
    "        if nums[i]:\n",
    "            # print(\"yes\")\n",
    "#             non_zero = nums.pop(i)\n",
    "#             nums.insert(j, non_zero)\n",
    "#             j+=1\n",
    "            print(i, j)\n",
    "            nums[j], nums[i] = nums[i], nums[j]\n",
    "            j+=1\n",
    "            print(nums)\n",
    "\n",
    "        else:\n",
    "            continue"
   ]
  },
  {
   "cell_type": "code",
   "execution_count": 3,
   "id": "d28cc147",
   "metadata": {},
   "outputs": [],
   "source": [
    "tree1 = {\n",
    "    \"tree\": {\n",
    "        \n",
    "        \"nodes\": [\n",
    "        {\"id\": \"10\", \"left\": \"5\", \"right\": \"15\", \"value\": 10},\n",
    "        {\"id\": \"15\", \"left\": \"13\", \"right\": \"22\", \"value\": 15},\n",
    "        # {\"id\": \"22\", \"left\": null, \"right\": null, \"value\": 22},\n",
    "        # {\"id\": \"13\", \"left\": null, \"right\": \"14\", \"value\": 13},\n",
    "        # {\"id\": \"14\", \"left\": null, \"right\": null, \"value\": 14},\n",
    "        {\"id\": \"5\", \"left\": \"2\", \"right\": \"5-2\", \"value\": 5},\n",
    "        # {\"id\": \"5-2\", \"left\": null, \"right\": null, \"value\": 5},\n",
    "        # {\"id\": \"2\", \"left\": \"1\", \"right\": null, \"value\": 2},\n",
    "        # {\"id\": \"1\", \"left\": null, \"right\": null, \"value\": 1}\n",
    "        ],\n",
    "        \"root\": \"10\"\n",
    "    }\n",
    "}"
   ]
  },
  {
   "cell_type": "code",
   "execution_count": 4,
   "id": "16876ab0",
   "metadata": {},
   "outputs": [],
   "source": [
    "def findClosestValueInBst(tree, target):\n",
    "    return another_func(tree, target, tree.value)\n",
    "    # tree = {\"id\": \"10\", \"left\": \"5\", \"right\": \"15\", \"value\": 10}\n",
    "\n",
    "\n",
    "def another_func(tree, target, closest):\n",
    "    # next_id = 0\n",
    "    for i in tree[\"tree\"][\"nodes\"]:\n",
    "        # print(i) -> {'id': '10', 'left': '5', 'right': '15', 'value': 10}\n",
    "        first_diff = target - int(i[\"left\"])\n",
    "        second_diff = target - int(i[\"right\"])\n",
    "        if second_diff < first_diff:\n",
    "            next_id = i[\"right\"] #15\n",
    "\n",
    "            \n",
    "        \n"
   ]
  },
  {
   "cell_type": "code",
   "execution_count": 5,
   "id": "b178dd72",
   "metadata": {},
   "outputs": [
    {
     "name": "stdout",
     "output_type": "stream",
     "text": [
      "{'id': '10', 'left': '5', 'right': '15', 'value': 10}\n",
      "{'id': '15', 'left': '13', 'right': '22', 'value': 15}\n",
      "{'id': '5', 'left': '2', 'right': '5-2', 'value': 5}\n"
     ]
    }
   ],
   "source": [
    "findClosestValueInBst(tree1, 1)"
   ]
  },
  {
   "cell_type": "code",
   "execution_count": null,
   "id": "1fe2ea5a",
   "metadata": {},
   "outputs": [],
   "source": []
  }
 ],
 "metadata": {
  "kernelspec": {
   "display_name": "Python 3.10.3 64-bit",
   "language": "python",
   "name": "python3"
  },
  "language_info": {
   "codemirror_mode": {
    "name": "ipython",
    "version": 3
   },
   "file_extension": ".py",
   "mimetype": "text/x-python",
   "name": "python",
   "nbconvert_exporter": "python",
   "pygments_lexer": "ipython3",
   "version": "3.10.3"
  },
  "vscode": {
   "interpreter": {
    "hash": "aee8b7b246df8f9039afb4144a1f6fd8d2ca17a180786b69acc140d282b71a49"
   }
  }
 },
 "nbformat": 4,
 "nbformat_minor": 5
}
