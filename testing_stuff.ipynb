{
 "cells": [
  {
   "cell_type": "code",
   "execution_count": 58,
   "id": "fa3c78e4",
   "metadata": {},
   "outputs": [],
   "source": [
    "def tournamentWinner(competitions, results):\n",
    "    # Write your code here.\n",
    "    dict_res = {}\n",
    "    for index in range(len(competitions)):\n",
    "        print(competitions[index])\n",
    "        print(results[index])\n",
    "        \n",
    "        if results[index] == 0:\n",
    "#             print(dict_res[competitions[index][1]])\n",
    "            if competitions[index][1] in dict_res.keys():\n",
    "                dict_res[competitions[index][1]] += 3\n",
    "                \n",
    "            else:\n",
    "                dict_res[competitions[index][1]] = 3\n",
    "            \n",
    "        if results[index] == 1:\n",
    "            if competitions[index][0] in dict_res.keys():\n",
    "                dict_res[competitions[index][0]] += 3\n",
    "                \n",
    "            else:\n",
    "                dict_res[competitions[index][0]] = 3\n",
    "            \n",
    "    return max(dict_res, key=dict_res.get)\n"
   ]
  },
  {
   "cell_type": "code",
   "execution_count": 59,
   "id": "8765c2fc",
   "metadata": {},
   "outputs": [
    {
     "name": "stdout",
     "output_type": "stream",
     "text": [
      "['a', 'v']\n",
      "0\n",
      "['e', 'q']\n",
      "0\n",
      "['q', 'x']\n",
      "1\n"
     ]
    },
    {
     "data": {
      "text/plain": [
       "'q'"
      ]
     },
     "execution_count": 59,
     "metadata": {},
     "output_type": "execute_result"
    }
   ],
   "source": [
    "tournamentWinner([[\"a\", \"v\"], [\"e\",\"q\"],[\"q\",\"x\"]], [0,0,1])"
   ]
  },
  {
   "cell_type": "code",
   "execution_count": null,
   "id": "3a39615f",
   "metadata": {},
   "outputs": [],
   "source": []
  },
  {
   "cell_type": "code",
   "execution_count": null,
   "id": "4aeb3dc4",
   "metadata": {},
   "outputs": [],
   "source": []
  }
 ],
 "metadata": {
  "kernelspec": {
   "display_name": "Python 3 (ipykernel)",
   "language": "python",
   "name": "python3"
  },
  "language_info": {
   "codemirror_mode": {
    "name": "ipython",
    "version": 3
   },
   "file_extension": ".py",
   "mimetype": "text/x-python",
   "name": "python",
   "nbconvert_exporter": "python",
   "pygments_lexer": "ipython3",
   "version": "3.9.12"
  }
 },
 "nbformat": 4,
 "nbformat_minor": 5
}
