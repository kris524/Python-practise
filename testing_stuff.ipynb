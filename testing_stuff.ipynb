{
 "cells": [
  {
   "cell_type": "code",
   "execution_count": 8,
   "id": "255cea9a",
   "metadata": {},
   "outputs": [],
   "source": [
    "def searchInsert(nums , target ) -> int:\n",
    "    low = 0\n",
    "    high = len(nums) -1\n",
    "    mid = 0\n",
    "    \n",
    "    while low <= high:\n",
    "        mid = (high+low)//2\n",
    "        if nums[mid]<target:\n",
    "            low = mid + 1\n",
    "            \n",
    "        elif nums[mid]> target:\n",
    "            high = mid -1\n",
    "            \n",
    "        else:\n",
    "            return mid\n",
    "        \n",
    "    #if we dont find it place some conditon here that will set its index\n",
    "#     print(high, low)\n",
    "#     return -1\n",
    "    return low\n",
    "    "
   ]
  },
  {
   "cell_type": "code",
   "execution_count": 10,
   "id": "2da85c9f",
   "metadata": {},
   "outputs": [
    {
     "name": "stdout",
     "output_type": "stream",
     "text": [
      "3 4\n"
     ]
    },
    {
     "data": {
      "text/plain": [
       "-1"
      ]
     },
     "execution_count": 10,
     "metadata": {},
     "output_type": "execute_result"
    }
   ],
   "source": [
    "searchInsert([1,3,5,6],7)"
   ]
  },
  {
   "cell_type": "code",
   "execution_count": null,
   "id": "4a81c93b",
   "metadata": {},
   "outputs": [],
   "source": [
    "def sortedSquares(self, nums: List[int]) -> List[int]:\n",
    "    sortedSquare = list(range(len(nums)))\n",
    "    smaller_index = 0\n",
    "    large_index = len(nums) - 1\n",
    "\n",
    "    for index in reversed(range(len(nums))):\n",
    "        small_number = nums[smaler_index]\n",
    "        large_number = nums[large_index]\n",
    "        \n",
    "        if abs(small_number) > abs(large_number):\n",
    "            sortedSquare[index] = small_number * small_number\n",
    "            smaler_index +=1\n",
    "        else:\n",
    "            sortedSquare[index] = large_number * large_number\n",
    "            large_number -=1\n",
    "            \n",
    "    return sortedSquare\n",
    "            \n",
    "        \n",
    "        \n",
    "        \n",
    "        \n",
    "        \n",
    "        "
   ]
  },
  {
   "cell_type": "code",
   "execution_count": 44,
   "id": "e1132c7a",
   "metadata": {},
   "outputs": [],
   "source": [
    "def rotate(nums, k):\n",
    "    reversed_nums_section = nums[-k:]\n",
    "    for i in range(k):\n",
    "        a = nums.pop()\n",
    "        nums.insert(0,a)\n",
    "    print(nums)\n",
    "    \n",
    "#     asda =  reversed_nums_section+nums\n",
    "#     return asda\n",
    "   \n",
    "\n",
    "\n",
    "    \n",
    "    \n",
    "    "
   ]
  },
  {
   "cell_type": "code",
   "execution_count": 45,
   "id": "f45bd480",
   "metadata": {},
   "outputs": [
    {
     "name": "stdout",
     "output_type": "stream",
     "text": [
      "[5, 6, 7, 1, 2, 3, 4]\n"
     ]
    }
   ],
   "source": [
    "rotate([1,2,3,4,5,6,7], 3)"
   ]
  },
  {
   "cell_type": "code",
   "execution_count": 37,
   "id": "cc6bd5dc",
   "metadata": {},
   "outputs": [
    {
     "ename": "SyntaxError",
     "evalue": "unmatched ']' (2707271547.py, line 1)",
     "output_type": "error",
     "traceback": [
      "\u001b[0;36m  Input \u001b[0;32mIn [37]\u001b[0;36m\u001b[0m\n\u001b[0;31m    4,3,2,1]\u001b[0m\n\u001b[0m           ^\u001b[0m\n\u001b[0;31mSyntaxError\u001b[0m\u001b[0;31m:\u001b[0m unmatched ']'\n"
     ]
    }
   ],
   "source": [
    "\n",
    "4,3,2,1]"
   ]
  },
  {
   "cell_type": "code",
   "execution_count": 75,
   "id": "ecc5229a",
   "metadata": {},
   "outputs": [],
   "source": [
    "def moveZeroes(nums) -> None:\n",
    "\n",
    "    j = 0\n",
    "    for i in range(len(nums)):\n",
    "\n",
    "        if nums[i]:\n",
    "            # print(\"yes\")\n",
    "#             non_zero = nums.pop(i)\n",
    "#             nums.insert(j, non_zero)\n",
    "#             j+=1\n",
    "            print(i, j)\n",
    "            nums[j], nums[i] = nums[i], nums[j]\n",
    "            j+=1\n",
    "            print(nums)\n",
    "\n",
    "        else:\n",
    "            continue"
   ]
  },
  {
   "cell_type": "code",
   "execution_count": 77,
   "id": "8d47a5fb",
   "metadata": {},
   "outputs": [
    {
     "name": "stdout",
     "output_type": "stream",
     "text": [
      "1 0\n",
      "[1, 0, 0, 3, 12]\n",
      "3 1\n",
      "[1, 3, 0, 0, 12]\n",
      "4 2\n",
      "[1, 3, 12, 0, 0]\n"
     ]
    }
   ],
   "source": [
    "moveZeroes([0,1,0,3,12]) "
   ]
  },
  {
   "cell_type": "code",
   "execution_count": null,
   "id": "1b1d8c7a",
   "metadata": {},
   "outputs": [],
   "source": []
  },
  {
   "cell_type": "code",
   "execution_count": null,
   "id": "03f80f82",
   "metadata": {},
   "outputs": [],
   "source": []
  }
 ],
 "metadata": {
  "kernelspec": {
   "display_name": "Python 3 (ipykernel)",
   "language": "python",
   "name": "python3"
  },
  "language_info": {
   "codemirror_mode": {
    "name": "ipython",
    "version": 3
   },
   "file_extension": ".py",
   "mimetype": "text/x-python",
   "name": "python",
   "nbconvert_exporter": "python",
   "pygments_lexer": "ipython3",
   "version": "3.9.12"
  }
 },
 "nbformat": 4,
 "nbformat_minor": 5
}
